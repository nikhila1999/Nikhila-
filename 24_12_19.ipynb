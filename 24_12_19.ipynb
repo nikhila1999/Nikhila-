{
  "nbformat": 4,
  "nbformat_minor": 0,
  "metadata": {
    "colab": {
      "name": "24-12-19.ipynb",
      "provenance": [],
      "collapsed_sections": [],
      "include_colab_link": true
    },
    "kernelspec": {
      "name": "python3",
      "display_name": "Python 3"
    }
  },
  "cells": [
    {
      "cell_type": "markdown",
      "metadata": {
        "id": "view-in-github",
        "colab_type": "text"
      },
      "source": [
        "<a href=\"https://colab.research.google.com/github/nikhila1999/Nikhila-/blob/master/24_12_19.ipynb\" target=\"_parent\"><img src=\"https://colab.research.google.com/assets/colab-badge.svg\" alt=\"Open In Colab\"/></a>"
      ]
    },
    {
      "cell_type": "code",
      "metadata": {
        "id": "Cl5d_TP0CS42",
        "colab_type": "code",
        "colab": {}
      },
      "source": [
        ""
      ],
      "execution_count": 0,
      "outputs": []
    },
    {
      "cell_type": "markdown",
      "metadata": {
        "id": "aPUvyjDIIq_w",
        "colab_type": "text"
      },
      "source": [
        ""
      ]
    },
    {
      "cell_type": "markdown",
      "metadata": {
        "id": "Sgb8Qx6kIuVz",
        "colab_type": "text"
      },
      "source": [
        "#hello\n",
        "##helloi\n",
        "**hello**\n",
        "*hello*\n"
      ]
    },
    {
      "cell_type": "code",
      "metadata": {
        "id": "wE3u3kvbIzq0",
        "colab_type": "code",
        "colab": {}
      },
      "source": [
        ""
      ],
      "execution_count": 0,
      "outputs": []
    },
    {
      "cell_type": "markdown",
      "metadata": {
        "id": "vcsW0RXlI0CD",
        "colab_type": "text"
      },
      "source": [
        "![text](https://images.pexels.com/photos/459225/pexels-photo-459225.jpeg?auto=compress&cs=tinysrgb&dpr=1&w=500\n",
        ")"
      ]
    },
    {
      "cell_type": "code",
      "metadata": {
        "id": "eS2qaFOhI_pk",
        "colab_type": "code",
        "colab": {}
      },
      "source": [
        ""
      ],
      "execution_count": 0,
      "outputs": []
    },
    {
      "cell_type": "markdown",
      "metadata": {
        "id": "8EBQ4SDFJBm7",
        "colab_type": "text"
      },
      "source": [
        "# Insert site\n",
        "[site](https://login.gitam.edu/Login.aspx)\n",
        "\n",
        "\n"
      ]
    },
    {
      "cell_type": "markdown",
      "metadata": {
        "id": "6iy-W84IMIm3",
        "colab_type": "text"
      },
      "source": [
        "#PYTHON\n",
        "# New Section"
      ]
    },
    {
      "cell_type": "code",
      "metadata": {
        "id": "nKAzvHkVMqTL",
        "colab_type": "code",
        "outputId": "64359695-6106-400b-d644-48e96e4f4f39",
        "colab": {
          "base_uri": "https://localhost:8080/",
          "height": 34
        }
      },
      "source": [
        "\n",
        "print(\"HELLO WORLD\")"
      ],
      "execution_count": 0,
      "outputs": [
        {
          "output_type": "stream",
          "text": [
            "HELLO WORLD\n"
          ],
          "name": "stdout"
        }
      ]
    },
    {
      "cell_type": "code",
      "metadata": {
        "id": "e59Ni6ouMmhs",
        "colab_type": "code",
        "colab": {}
      },
      "source": [
        ""
      ],
      "execution_count": 0,
      "outputs": []
    },
    {
      "cell_type": "markdown",
      "metadata": {
        "id": "SBC6oC8lMzCD",
        "colab_type": "text"
      },
      "source": [
        "Assignment\n"
      ]
    },
    {
      "cell_type": "code",
      "metadata": {
        "id": "4lPxjTcTM2BL",
        "colab_type": "code",
        "outputId": "d9086e42-2145-4dd6-e4c1-808e2aa13059",
        "colab": {
          "base_uri": "https://localhost:8080/",
          "height": 34
        }
      },
      "source": [
        "x=12\n",
        "y=18\n",
        "print(x,y)\n"
      ],
      "execution_count": 0,
      "outputs": [
        {
          "output_type": "stream",
          "text": [
            "12 18\n"
          ],
          "name": "stdout"
        }
      ]
    },
    {
      "cell_type": "markdown",
      "metadata": {
        "id": "__5iIhMIMzAM",
        "colab_type": "text"
      },
      "source": [
        "# New Section"
      ]
    },
    {
      "cell_type": "code",
      "metadata": {
        "id": "zEUnobUdNVLj",
        "colab_type": "code",
        "outputId": "98b598a3-43e4-4b87-ac84-a5f577c81e13",
        "colab": {
          "base_uri": "https://localhost:8080/",
          "height": 34
        }
      },
      "source": [
        "x=y=z=19\n",
        "print(x,y,z)"
      ],
      "execution_count": 0,
      "outputs": [
        {
          "output_type": "stream",
          "text": [
            "19 19 19\n"
          ],
          "name": "stdout"
        }
      ]
    },
    {
      "cell_type": "code",
      "metadata": {
        "id": "rciQ29DbNlDs",
        "colab_type": "code",
        "outputId": "5a53ed69-4eaf-45c8-cbdc-9c8c6bf99aea",
        "colab": {
          "base_uri": "https://localhost:8080/",
          "height": 34
        }
      },
      "source": [
        "a1,b1,c1=100,200,300\n",
        "print(a1,b1,c1)"
      ],
      "execution_count": 0,
      "outputs": [
        {
          "output_type": "stream",
          "text": [
            "100 200 300\n"
          ],
          "name": "stdout"
        }
      ]
    },
    {
      "cell_type": "markdown",
      "metadata": {
        "id": "Br2SvFb5N8v8",
        "colab_type": "text"
      },
      "source": [
        "# Datatypes and Conversions\n",
        "- int\n",
        "- float\n",
        "- string\n",
        "- complex\n",
        "- boolean\n",
        "\n",
        "\n",
        "\n",
        "> Indented block\n",
        "\n"
      ]
    },
    {
      "cell_type": "code",
      "metadata": {
        "id": "lSdPJnivO-Lc",
        "colab_type": "code",
        "outputId": "9cce1b1f-58da-4592-ee48-40c04db40bf9",
        "colab": {
          "base_uri": "https://localhost:8080/",
          "height": 68
        }
      },
      "source": [
        "x=10\n",
        "y=12.56\n",
        "z=3+5j\n",
        "print(type(x))\n",
        "print(type(y))\n",
        "print(type(z))\n"
      ],
      "execution_count": 0,
      "outputs": [
        {
          "output_type": "stream",
          "text": [
            "<class 'int'>\n",
            "<class 'float'>\n",
            "<class 'complex'>\n"
          ],
          "name": "stdout"
        }
      ]
    },
    {
      "cell_type": "code",
      "metadata": {
        "id": "VRdLWjCMOClE",
        "colab_type": "code",
        "colab": {}
      },
      "source": [
        ""
      ],
      "execution_count": 0,
      "outputs": []
    },
    {
      "cell_type": "code",
      "metadata": {
        "id": "1Ebdpo4dPxXw",
        "colab_type": "code",
        "outputId": "e202b70a-fee2-4e5b-b888-34fe8a11af81",
        "colab": {
          "base_uri": "https://localhost:8080/",
          "height": 34
        }
      },
      "source": [
        "x=4\n",
        "y=10\n",
        "x<y"
      ],
      "execution_count": 0,
      "outputs": [
        {
          "output_type": "execute_result",
          "data": {
            "text/plain": [
              "True"
            ]
          },
          "metadata": {
            "tags": []
          },
          "execution_count": 12
        }
      ]
    },
    {
      "cell_type": "code",
      "metadata": {
        "id": "PfqHjrP_P4Yt",
        "colab_type": "code",
        "colab": {}
      },
      "source": [
        ""
      ],
      "execution_count": 0,
      "outputs": []
    },
    {
      "cell_type": "markdown",
      "metadata": {
        "id": "VfQdZj-KQEws",
        "colab_type": "text"
      },
      "source": [
        "#String\n"
      ]
    },
    {
      "cell_type": "code",
      "metadata": {
        "id": "T4F9CfOCQJqF",
        "colab_type": "code",
        "outputId": "bbabee08-c1a8-47cd-831c-593dba1593e1",
        "colab": {
          "base_uri": "https://localhost:8080/",
          "height": 51
        }
      },
      "source": [
        "s1=\"abc\"\n",
        "s2=\"xyz\"\n",
        "print(type(s1))\n",
        "print(type(s2))\n"
      ],
      "execution_count": 0,
      "outputs": [
        {
          "output_type": "stream",
          "text": [
            "<class 'str'>\n",
            "<class 'str'>\n"
          ],
          "name": "stdout"
        }
      ]
    },
    {
      "cell_type": "code",
      "metadata": {
        "id": "lyfqFBaSQcyN",
        "colab_type": "code",
        "outputId": "29407f41-bacb-4160-dd3a-f16e77fb2fd5",
        "colab": {
          "base_uri": "https://localhost:8080/",
          "height": 34
        }
      },
      "source": [
        "a=123\n",
        "print(type(a))\n"
      ],
      "execution_count": 0,
      "outputs": [
        {
          "output_type": "stream",
          "text": [
            "<class 'int'>\n"
          ],
          "name": "stdout"
        }
      ]
    },
    {
      "cell_type": "code",
      "metadata": {
        "id": "100qBVEYQp5s",
        "colab_type": "code",
        "outputId": "1ad64a98-44aa-4b41-c185-ead5307b7905",
        "colab": {
          "base_uri": "https://localhost:8080/",
          "height": 68
        }
      },
      "source": [
        "i=100\n",
        "print(type(i))\n",
        "s1=str(i)\n",
        "print(type(s1))\n",
        "f=float(i)\n",
        "print(type(f))\n"
      ],
      "execution_count": 0,
      "outputs": [
        {
          "output_type": "stream",
          "text": [
            "<class 'int'>\n",
            "<class 'str'>\n",
            "<class 'float'>\n"
          ],
          "name": "stdout"
        }
      ]
    },
    {
      "cell_type": "code",
      "metadata": {
        "id": "ZdnvDxhQRu4E",
        "colab_type": "code",
        "outputId": "fa1b7dee-b211-4917-9b49-4b93ce061de8",
        "colab": {
          "base_uri": "https://localhost:8080/",
          "height": 34
        }
      },
      "source": [
        "c=complex(3,5)\n",
        "print(c)\n"
      ],
      "execution_count": 0,
      "outputs": [
        {
          "output_type": "stream",
          "text": [
            "(3+5j)\n"
          ],
          "name": "stdout"
        }
      ]
    },
    {
      "cell_type": "code",
      "metadata": {
        "id": "mQlQOCwgSCkI",
        "colab_type": "code",
        "colab": {}
      },
      "source": [
        ""
      ],
      "execution_count": 0,
      "outputs": []
    },
    {
      "cell_type": "markdown",
      "metadata": {
        "id": "3KFDjFAWSF-t",
        "colab_type": "text"
      },
      "source": [
        "# Read Input\n"
      ]
    },
    {
      "cell_type": "code",
      "metadata": {
        "id": "Fw_hxVq6SJ7H",
        "colab_type": "code",
        "colab": {}
      },
      "source": [
        ""
      ],
      "execution_count": 0,
      "outputs": []
    },
    {
      "cell_type": "markdown",
      "metadata": {
        "id": "Bi9wJ13fSPTL",
        "colab_type": "text"
      },
      "source": [
        "#Reading a value ---Input function\n"
      ]
    },
    {
      "cell_type": "code",
      "metadata": {
        "id": "XhPUDKJISZfT",
        "colab_type": "code",
        "outputId": "18efdc9d-83f6-46f3-b58d-8de46ecef9df",
        "colab": {
          "base_uri": "https://localhost:8080/",
          "height": 68
        }
      },
      "source": [
        "s=input(\"enter name\")\n",
        "print(s)\n",
        "print(type(s))\n"
      ],
      "execution_count": 0,
      "outputs": [
        {
          "output_type": "stream",
          "text": [
            "enter name  nikhila\n",
            "  nikhila\n",
            "<class 'str'>\n"
          ],
          "name": "stdout"
        }
      ]
    },
    {
      "cell_type": "code",
      "metadata": {
        "id": "0WuAL-msS4hu",
        "colab_type": "code",
        "outputId": "8975b173-1b42-429f-a038-9566f18362a8",
        "colab": {
          "base_uri": "https://localhost:8080/",
          "height": 68
        }
      },
      "source": [
        "a=int(input(\"enter age\"))\n",
        "print(a)\n",
        "print(type(a))\n"
      ],
      "execution_count": 0,
      "outputs": [
        {
          "output_type": "stream",
          "text": [
            "enter age20\n",
            "20\n",
            "<class 'int'>\n"
          ],
          "name": "stdout"
        }
      ]
    },
    {
      "cell_type": "markdown",
      "metadata": {
        "id": "KWFUZUjsTjc9",
        "colab_type": "text"
      },
      "source": [
        "#Operators\n",
        "- operator is a symbol is used to perform a specific kind of operations\n"
      ]
    },
    {
      "cell_type": "code",
      "metadata": {
        "id": "wwxY0bg9T3bO",
        "colab_type": "code",
        "colab": {}
      },
      "source": [
        ""
      ],
      "execution_count": 0,
      "outputs": []
    },
    {
      "cell_type": "markdown",
      "metadata": {
        "id": "2FWhmvfGT5i9",
        "colab_type": "text"
      },
      "source": [
        "#Arithematic Operator\n",
        "- +\n",
        "- -\n",
        "- *\n",
        "- /\n",
        "- %\n",
        "- //\n",
        "- **\n",
        "\n"
      ]
    },
    {
      "cell_type": "code",
      "metadata": {
        "id": "L73T5W_1UZzW",
        "colab_type": "code",
        "outputId": "6770f497-fecf-40c9-dc3e-5a624b7a6015",
        "colab": {
          "base_uri": "https://localhost:8080/",
          "height": 136
        }
      },
      "source": [
        "n1=123\n",
        "print(n1 +10)\n",
        "print(n1 -10)\n",
        "print(n1 *10)\n",
        "print(n1 /10)\n",
        "print(n1 %10)\n",
        "print(n1 //10)\n",
        "print(n1 **10)\n",
        "\n"
      ],
      "execution_count": 0,
      "outputs": [
        {
          "output_type": "stream",
          "text": [
            "133\n",
            "113\n",
            "1230\n",
            "12.3\n",
            "3\n",
            "12\n",
            "792594609605189126649\n"
          ],
          "name": "stdout"
        }
      ]
    },
    {
      "cell_type": "markdown",
      "metadata": {
        "id": "roygBkrIVWY3",
        "colab_type": "text"
      },
      "source": [
        "#Precedence of Arth Operators\n",
        "- Paranthesis\n",
        "- Power\n",
        "- Multiplication\n",
        "- Addition\n"
      ]
    },
    {
      "cell_type": "code",
      "metadata": {
        "id": "bJixzbNxVnB2",
        "colab_type": "code",
        "outputId": "118e210d-48a1-4ea1-b151-f757f85daaaa",
        "colab": {
          "base_uri": "https://localhost:8080/",
          "height": 34
        }
      },
      "source": [
        "x=1 + 2 ** 3 /4 + 5\n",
        "print(x)\n"
      ],
      "execution_count": 0,
      "outputs": [
        {
          "output_type": "stream",
          "text": [
            "8.0\n"
          ],
          "name": "stdout"
        }
      ]
    },
    {
      "cell_type": "code",
      "metadata": {
        "id": "Tb3RYqjvXhVQ",
        "colab_type": "code",
        "outputId": "27ec5322-a80b-44af-9971-7add4d350143",
        "colab": {
          "base_uri": "https://localhost:8080/",
          "height": 34
        }
      },
      "source": [
        "x=1+2**3//4*5\n",
        "print(x)\n",
        "\n"
      ],
      "execution_count": 0,
      "outputs": [
        {
          "output_type": "stream",
          "text": [
            "11\n"
          ],
          "name": "stdout"
        }
      ]
    },
    {
      "cell_type": "markdown",
      "metadata": {
        "id": "UuAL39s3YFs_",
        "colab_type": "text"
      },
      "source": [
        "#Relational Operators\n",
        "- =,!=,<,>,<=,>=\n"
      ]
    },
    {
      "cell_type": "code",
      "metadata": {
        "id": "YvCsDJabYwSo",
        "colab_type": "code",
        "outputId": "891662a6-9dcf-455c-86ec-a05dde585786",
        "colab": {
          "base_uri": "https://localhost:8080/",
          "height": 34
        }
      },
      "source": [
        "a=10\n",
        "a1=a>15\n",
        "print(a1)\n"
      ],
      "execution_count": 0,
      "outputs": [
        {
          "output_type": "stream",
          "text": [
            "False\n"
          ],
          "name": "stdout"
        }
      ]
    },
    {
      "cell_type": "code",
      "metadata": {
        "id": "jEzGb-EFY-un",
        "colab_type": "code",
        "colab": {}
      },
      "source": [
        ""
      ],
      "execution_count": 0,
      "outputs": []
    },
    {
      "cell_type": "markdown",
      "metadata": {
        "id": "YAhM0t3EY_qf",
        "colab_type": "text"
      },
      "source": [
        "#Logical Operators\n"
      ]
    },
    {
      "cell_type": "code",
      "metadata": {
        "id": "U534EZfCZKrW",
        "colab_type": "code",
        "outputId": "a7313854-1da5-4b8f-c043-4ae614f29720",
        "colab": {
          "base_uri": "https://localhost:8080/",
          "height": 68
        }
      },
      "source": [
        "x=20\n",
        "y=30\n",
        "print(x>=10 and x<=20)\n",
        "print(x>=10 and x<=20)\n",
        "print(not x)\n",
        "\n"
      ],
      "execution_count": 0,
      "outputs": [
        {
          "output_type": "stream",
          "text": [
            "True\n",
            "True\n",
            "False\n"
          ],
          "name": "stdout"
        }
      ]
    },
    {
      "cell_type": "markdown",
      "metadata": {
        "id": "LgOc9Gb2aH92",
        "colab_type": "text"
      },
      "source": [
        "#Membership Operators\n"
      ]
    },
    {
      "cell_type": "code",
      "metadata": {
        "id": "z2e8mbr7aOQG",
        "colab_type": "code",
        "outputId": "ff2d6aaa-dbc3-4889-a972-b3a5f64bc84c",
        "colab": {
          "base_uri": "https://localhost:8080/",
          "height": 51
        }
      },
      "source": [
        "str1=\"abc\"\n",
        "print('a' in str1)\n",
        "print('a' not in str1)"
      ],
      "execution_count": 0,
      "outputs": [
        {
          "output_type": "stream",
          "text": [
            "True\n",
            "False\n"
          ],
          "name": "stdout"
        }
      ]
    },
    {
      "cell_type": "markdown",
      "metadata": {
        "id": "gZAfoehza0Vr",
        "colab_type": "text"
      },
      "source": [
        "#Conditional Statements\n",
        "## If - else Statements\n",
        "### Syntax:\n",
        "#### if condition:\n",
        "> Statements<br>\n",
        "##### else:\n",
        "> statements"
      ]
    },
    {
      "cell_type": "code",
      "metadata": {
        "id": "dnkb1jlPcBRf",
        "colab_type": "code",
        "outputId": "9960f41d-5352-4faf-c2d7-de87872f06b0",
        "colab": {
          "base_uri": "https://localhost:8080/",
          "height": 51
        }
      },
      "source": [
        "# even or odd\n",
        "n=int(input(\"enter a number:\"))\n",
        "if n%2==0:\n",
        "  print(\"even number\")\n",
        "else:\n",
        "  print(\"odd number\")"
      ],
      "execution_count": 0,
      "outputs": [
        {
          "output_type": "stream",
          "text": [
            "enter a number:6\n",
            "even number\n"
          ],
          "name": "stdout"
        }
      ]
    },
    {
      "cell_type": "code",
      "metadata": {
        "id": "tg1awMimdSNv",
        "colab_type": "code",
        "colab": {}
      },
      "source": [
        ""
      ],
      "execution_count": 0,
      "outputs": []
    },
    {
      "cell_type": "code",
      "metadata": {
        "id": "bOcKWKZrdeYu",
        "colab_type": "code",
        "outputId": "fdb139d6-de27-45cd-c818-ba6d03835cfc",
        "colab": {
          "base_uri": "https://localhost:8080/",
          "height": 51
        }
      },
      "source": [
        "# check given num is perfectly multiple of 3 and 5\n",
        "n=int(input(\"enter a number:\"))\n",
        "if (n%3==0 and n%5==0):\n",
        "  print(\"divisible\")\n",
        "else:\n",
        "  print(\"not divisible\")"
      ],
      "execution_count": 0,
      "outputs": [
        {
          "output_type": "stream",
          "text": [
            "enter a number:15\n",
            "divisible\n"
          ],
          "name": "stdout"
        }
      ]
    },
    {
      "cell_type": "code",
      "metadata": {
        "id": "SLFaZO2cep83",
        "colab_type": "code",
        "colab": {}
      },
      "source": [
        ""
      ],
      "execution_count": 0,
      "outputs": []
    },
    {
      "cell_type": "code",
      "metadata": {
        "id": "DJC5rH0Ge5tQ",
        "colab_type": "code",
        "outputId": "c4e73a6e-8d45-41ac-89bd-a9a9df105c03",
        "colab": {
          "base_uri": "https://localhost:8080/",
          "height": 51
        }
      },
      "source": [
        "# check given number positive,negative or zero\n",
        "n= int(input(\"enter a number\"))\n",
        "if n>0:\n",
        "  print(\"+ve\")\n",
        "elif n<0:  \n",
        "  print(\"-ve\")\n",
        "else:\n",
        "  print(\"zero\")"
      ],
      "execution_count": 0,
      "outputs": [
        {
          "output_type": "stream",
          "text": [
            "enter a number2345\n",
            "+ve\n"
          ],
          "name": "stdout"
        }
      ]
    },
    {
      "cell_type": "code",
      "metadata": {
        "id": "KDnzyjw0hmDf",
        "colab_type": "code",
        "outputId": "a25d2cc9-0885-4c54-f8fe-476153796782",
        "colab": {
          "base_uri": "https://localhost:8080/",
          "height": 51
        }
      },
      "source": [
        "# given number is leap year or not\n",
        "n=int(input(\"enter a year\"))\n",
        "if n%400==0 or (n%100 !=0 and n%4==0):\n",
        "  print(\"leap year\")\n",
        "else:\n",
        "  print(\"not leap year\")  "
      ],
      "execution_count": 0,
      "outputs": [
        {
          "output_type": "stream",
          "text": [
            "enter a year2004\n",
            "leap year\n"
          ],
          "name": "stdout"
        }
      ]
    },
    {
      "cell_type": "code",
      "metadata": {
        "id": "7B6CKPZqhUni",
        "colab_type": "code",
        "colab": {}
      },
      "source": [
        "2004"
      ],
      "execution_count": 0,
      "outputs": []
    }
  ]
}
{
  "nbformat": 4,
  "nbformat_minor": 0,
  "metadata": {
    "colab": {
      "name": "26-12-19.ipynb",
      "provenance": [],
      "collapsed_sections": [],
      "include_colab_link": true
    },
    "kernelspec": {
      "name": "python3",
      "display_name": "Python 3"
    }
  },
  "cells": [
    {
      "cell_type": "markdown",
      "metadata": {
        "id": "view-in-github",
        "colab_type": "text"
      },
      "source": [
        "<a href=\"https://colab.research.google.com/github/nikhila1999/Nikhila-/blob/master/26_12_19.ipynb\" target=\"_parent\"><img src=\"https://colab.research.google.com/assets/colab-badge.svg\" alt=\"Open In Colab\"/></a>"
      ]
    },
    {
      "cell_type": "code",
      "metadata": {
        "id": "iHfd8UjxWwz9",
        "colab_type": "code",
        "colab": {}
      },
      "source": [
        ""
      ],
      "execution_count": 0,
      "outputs": []
    },
    {
      "cell_type": "code",
      "metadata": {
        "id": "vEtHd0RKY2D7",
        "colab_type": "code",
        "colab": {
          "base_uri": "https://localhost:8080/",
          "height": 85
        },
        "outputId": "b8bbe544-8674-4488-95be-f4c5654ab608"
      },
      "source": [
        "# find large number from given 3 numbers\n",
        "a =int(input(\"enter a number\"))\n",
        "b =int(input(\"enter a number\"))\n",
        "c =int(input(\"enter a number\"))\n",
        "if a>b and a>c:\n",
        "  print(a,\"is large number\")\n",
        "elif b>a and b>c:\n",
        "  print(b,\"is large number\")\n",
        "else:\n",
        "  print(c,\"is large number\")   "
      ],
      "execution_count": 2,
      "outputs": [
        {
          "output_type": "stream",
          "text": [
            "enter a number8\n",
            "enter a number6\n",
            "enter a number4\n",
            "8 is large number\n"
          ],
          "name": "stdout"
        }
      ]
    },
    {
      "cell_type": "markdown",
      "metadata": {
        "id": "AfYGD2NOZ-x2",
        "colab_type": "text"
      },
      "source": [
        "#while statements:\n",
        "###syntax:\n",
        "####while boolean_condition:<br>\n",
        "           statements<br>\n",
        "           Increment / Decrement <br>\n",
        "           "
      ]
    },
    {
      "cell_type": "code",
      "metadata": {
        "id": "A9VMAF4ZbBZG",
        "colab_type": "code",
        "colab": {
          "base_uri": "https://localhost:8080/",
          "height": 102
        },
        "outputId": "7584e451-d621-4b67-aa70-3b40385e6012"
      },
      "source": [
        "x= 0\n",
        "while x<5:\n",
        "  print(\"gitam\")\n",
        "  x+=1"
      ],
      "execution_count": 7,
      "outputs": [
        {
          "output_type": "stream",
          "text": [
            "gitam\n",
            "gitam\n",
            "gitam\n",
            "gitam\n",
            "gitam\n"
          ],
          "name": "stdout"
        }
      ]
    },
    {
      "cell_type": "code",
      "metadata": {
        "id": "UbJRjgn4cpE2",
        "colab_type": "code",
        "colab": {
          "base_uri": "https://localhost:8080/",
          "height": 51
        },
        "outputId": "4c91bcfc-5c8d-4c69-bafe-4823f9d7de14"
      },
      "source": [
        "# print n natural numbers using while loop\n",
        "# input :10\n",
        "# output :1 2 3 4 5 6 7 8 9 10\n",
        "n=int(input(\"enter a number\"))\n",
        "i =1\n",
        "while i<=n:\n",
        "   print(i,end=\" \")\n",
        "   i=i+1"
      ],
      "execution_count": 15,
      "outputs": [
        {
          "output_type": "stream",
          "text": [
            "enter a number10\n",
            "1 2 3 4 5 6 7 8 9 10 "
          ],
          "name": "stdout"
        }
      ]
    },
    {
      "cell_type": "code",
      "metadata": {
        "id": "-P6j09pzgFuk",
        "colab_type": "code",
        "colab": {
          "base_uri": "https://localhost:8080/",
          "height": 51
        },
        "outputId": "5ed888cc-0eb8-44ea-f09f-4732ce128b70"
      },
      "source": [
        "# add only even numbers 1 to n\n",
        "#input:10\n",
        "#output: 30(2+4+6+8+10)\n",
        "n=int(input(\"enter a number\"))\n",
        "i=1\n",
        "sum=0\n",
        "while i<=n:\n",
        "    if i%2==0:\n",
        "      sum=sum+i\n",
        "    i=i+1\n",
        "print(sum)    "
      ],
      "execution_count": 23,
      "outputs": [
        {
          "output_type": "stream",
          "text": [
            "enter a number10\n",
            "30\n"
          ],
          "name": "stdout"
        }
      ]
    },
    {
      "cell_type": "code",
      "metadata": {
        "id": "TaMAjI4yimMn",
        "colab_type": "code",
        "colab": {
          "base_uri": "https://localhost:8080/",
          "height": 51
        },
        "outputId": "c252da89-7eda-4e08-c213-c263fbb0adea"
      },
      "source": [
        "#input:123\n",
        "#output:321\n",
        "n=int(input(\"enter a number\"))\n",
        "while n!=0:\n",
        "  r=n%10\n",
        "  print(r,end=\" \")\n",
        "  n=n//10"
      ],
      "execution_count": 24,
      "outputs": [
        {
          "output_type": "stream",
          "text": [
            "enter a number123\n",
            "3 2 1 "
          ],
          "name": "stdout"
        }
      ]
    },
    {
      "cell_type": "markdown",
      "metadata": {
        "id": "9aCg0FBjk5iG",
        "colab_type": "text"
      },
      "source": [
        "#functional programming\n",
        "- simple\n",
        "- easy read\n",
        "- lengthy program dividesinto sub programs\n",
        "#syntax \n",
        "def nameofthefunction(<parameters>)\n",
        "      statements\n",
        "nameofthefunction()      "
      ]
    },
    {
      "cell_type": "code",
      "metadata": {
        "id": "JyBOtuLCnEN3",
        "colab_type": "code",
        "colab": {
          "base_uri": "https://localhost:8080/",
          "height": 34
        },
        "outputId": "0d071df2-f1fb-4c45-e71f-befb7e4783bb"
      },
      "source": [
        "# input:1234\n",
        "#output:6 (2+4)\n",
        "def addevendigit(n):\n",
        "    sum=0\n",
        "    while n!=0:\n",
        "      r=n%10\n",
        "      if r%2==0:\n",
        "          sum=sum+r\n",
        "      n=n//10\n",
        "    return sum\n",
        "addevendigit(1234)        "
      ],
      "execution_count": 31,
      "outputs": [
        {
          "output_type": "execute_result",
          "data": {
            "text/plain": [
              "6"
            ]
          },
          "metadata": {
            "tags": []
          },
          "execution_count": 31
        }
      ]
    },
    {
      "cell_type": "code",
      "metadata": {
        "id": "a2BkVWzDpFs-",
        "colab_type": "code",
        "colab": {
          "base_uri": "https://localhost:8080/",
          "height": 34
        },
        "outputId": "226749a6-e901-4f33-b481-5f2ee62908a1"
      },
      "source": [
        "#read input\n",
        "# input:19528\n",
        "# output:9\n",
        "def largestofall(n):\n",
        "  l=0\n",
        "  while n!=0:\n",
        "    r=n%10\n",
        "    if r>l:\n",
        "      l=r\n",
        "    n=n//10\n",
        "  return l\n",
        "largestofall(19528)\n"
      ],
      "execution_count": 44,
      "outputs": [
        {
          "output_type": "execute_result",
          "data": {
            "text/plain": [
              "9"
            ]
          },
          "metadata": {
            "tags": []
          },
          "execution_count": 44
        }
      ]
    },
    {
      "cell_type": "code",
      "metadata": {
        "id": "q9p-sP3pnJjW",
        "colab_type": "code",
        "colab": {
          "base_uri": "https://localhost:8080/",
          "height": 34
        },
        "outputId": "698ade79-cb86-48b5-96db-38421b0a061f"
      },
      "source": [
        "#input: 123\n",
        "#output: 321\n",
        "def revofnum(n):\n",
        "  while n!=0:\n",
        "    r=n%10\n",
        "    print(r,end=\" \")\n",
        "    n=n//10\n",
        "revofnum(123)    "
      ],
      "execution_count": 45,
      "outputs": [
        {
          "output_type": "stream",
          "text": [
            "3 2 1 "
          ],
          "name": "stdout"
        }
      ]
    },
    {
      "cell_type": "code",
      "metadata": {
        "id": "zmV2HAaMyKbQ",
        "colab_type": "code",
        "colab": {
          "base_uri": "https://localhost:8080/",
          "height": 51
        },
        "outputId": "e5609b2e-4e52-4379-bb7e-f8308cff4718"
      },
      "source": [
        "#palindrome or not\n",
        "#input: 121-----121--yes\n",
        "#input: 121-----321--no\n",
        "\n",
        "def ispalindrome(n):\n",
        "    rev=0\n",
        "    buffer=n\n",
        "    while n!=0:\n",
        "        r=n%10\n",
        "        rev=rev*10+r\n",
        "        n=n//10\n",
        "    if buffer == rev:\n",
        "        return \"yes\"\n",
        "    else:\n",
        "        return \"no\"\n",
        "print(ispalindrome(123))\n",
        "print(ispalindrome(121))                \n"
      ],
      "execution_count": 46,
      "outputs": [
        {
          "output_type": "stream",
          "text": [
            "no\n",
            "yes\n"
          ],
          "name": "stdout"
        }
      ]
    },
    {
      "cell_type": "code",
      "metadata": {
        "id": "7h4P8kBt2i1T",
        "colab_type": "code",
        "colab": {
          "base_uri": "https://localhost:8080/",
          "height": 34
        },
        "outputId": "3cfd78ec-2667-46f5-cf43-fc5035aad0ff"
      },
      "source": [
        "def natural(n):\n",
        "    for i in range(1,n+1):\n",
        "      print(i,end=\" \")\n",
        "natural(10)    "
      ],
      "execution_count": 48,
      "outputs": [
        {
          "output_type": "stream",
          "text": [
            "1 2 3 4 5 6 7 8 9 10 "
          ],
          "name": "stdout"
        }
      ]
    },
    {
      "cell_type": "code",
      "metadata": {
        "id": "pb1qviXl28PG",
        "colab_type": "code",
        "colab": {
          "base_uri": "https://localhost:8080/",
          "height": 34
        },
        "outputId": "1fcc9a6c-5dbb-4cc5-f68a-879f7b1ba93e"
      },
      "source": [
        "def natural(l,b):\n",
        "    for i in range(l,b+1):\n",
        "        print(i,end=\" \")\n",
        "natural(11,25)        "
      ],
      "execution_count": 50,
      "outputs": [
        {
          "output_type": "stream",
          "text": [
            "11 12 13 14 15 16 17 18 19 20 21 22 23 24 25 "
          ],
          "name": "stdout"
        }
      ]
    },
    {
      "cell_type": "code",
      "metadata": {
        "id": "1dLJOmT4240G",
        "colab_type": "code",
        "colab": {
          "base_uri": "https://localhost:8080/",
          "height": 34
        },
        "outputId": "8c47b0c7-e7ce-4d12-bd91-bab51fccfb2a"
      },
      "source": [
        "def natural(n):\n",
        "    for i in range(100,n+1):\n",
        "        print(i,end=\" \")\n",
        "natural(110)    "
      ],
      "execution_count": 51,
      "outputs": [
        {
          "output_type": "stream",
          "text": [
            "100 101 102 103 104 105 106 107 108 109 110 "
          ],
          "name": "stdout"
        }
      ]
    },
    {
      "cell_type": "code",
      "metadata": {
        "id": "bPpgLVxh3p0v",
        "colab_type": "code",
        "colab": {
          "base_uri": "https://localhost:8080/",
          "height": 34
        },
        "outputId": "11f6c628-78aa-45a7-e6b6-5bcff34111b8"
      },
      "source": [
        "def natural(l,b):\n",
        "    for i in range(l,b+1,4):\n",
        "        print(i,end=\" \")\n",
        "natural(1,10)        "
      ],
      "execution_count": 52,
      "outputs": [
        {
          "output_type": "stream",
          "text": [
            "1 5 9 "
          ],
          "name": "stdout"
        }
      ]
    },
    {
      "cell_type": "code",
      "metadata": {
        "id": "nhV1Z_lX39B6",
        "colab_type": "code",
        "colab": {
          "base_uri": "https://localhost:8080/",
          "height": 34
        },
        "outputId": "cb23ae37-dca3-4908-cf60-d319381e4752"
      },
      "source": [
        "#using fuction\n",
        "#input:1,10\n",
        "#output:10,9,8,7,6,5,4,3,2,1\n",
        "\n",
        "def reverserange(b,l):\n",
        "    for i in range(l,b-1,-1):\n",
        "        print(i,end=\" \")\n",
        "reverserange(1,10)\n",
        "        "
      ],
      "execution_count": 53,
      "outputs": [
        {
          "output_type": "stream",
          "text": [
            "10 9 8 7 6 5 4 3 2 1 "
          ],
          "name": "stdout"
        }
      ]
    },
    {
      "cell_type": "code",
      "metadata": {
        "id": "FpXcgCnn5ZF2",
        "colab_type": "code",
        "colab": {}
      },
      "source": [
        ""
      ],
      "execution_count": 0,
      "outputs": []
    },
    {
      "cell_type": "code",
      "metadata": {
        "id": "TXbOofET5vDh",
        "colab_type": "code",
        "colab": {}
      },
      "source": [
        ""
      ],
      "execution_count": 0,
      "outputs": []
    },
    {
      "cell_type": "markdown",
      "metadata": {
        "id": "a2IkoO4352u4",
        "colab_type": "text"
      },
      "source": [
        "#data structure types:\n",
        "- list\n",
        "- tuple\n",
        "- dictionary\n",
        "#list:\n",
        "- its one common data structure in python,the iteams are separated by comma and enclosed by [ ]\n",
        "- crud operations\n",
        "* c-create\n",
        "* r-read\n",
        "* u-update\n",
        "* d-delete\n",
        "- list can be changed or immutable\n",
        "##example:\n",
        "- list =[1,2,3,4]\n",
        "\n",
        "\n",
        "\n"
      ]
    },
    {
      "cell_type": "code",
      "metadata": {
        "id": "wjbkQSJ17aaj",
        "colab_type": "code",
        "colab": {
          "base_uri": "https://localhost:8080/",
          "height": 68
        },
        "outputId": "c77e52c0-3b83-48ea-d357-48f749be06b3"
      },
      "source": [
        "li=[1,2,3,4,5]\n",
        "print(li)\n",
        "print(li[0])\n",
        "print(li[-1])\n",
        "\n"
      ],
      "execution_count": 55,
      "outputs": [
        {
          "output_type": "stream",
          "text": [
            "[1, 2, 3, 4, 5]\n",
            "1\n",
            "5\n"
          ],
          "name": "stdout"
        }
      ]
    },
    {
      "cell_type": "code",
      "metadata": {
        "id": "Y1C705Yd-Qyj",
        "colab_type": "code",
        "colab": {}
      },
      "source": [
        ""
      ],
      "execution_count": 0,
      "outputs": []
    }
  ]
}
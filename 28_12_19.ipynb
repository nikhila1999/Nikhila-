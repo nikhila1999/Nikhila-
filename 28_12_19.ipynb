{
  "nbformat": 4,
  "nbformat_minor": 0,
  "metadata": {
    "colab": {
      "name": "28-12-19.ipynb",
      "provenance": [],
      "collapsed_sections": [],
      "include_colab_link": true
    },
    "kernelspec": {
      "name": "python3",
      "display_name": "Python 3"
    }
  },
  "cells": [
    {
      "cell_type": "markdown",
      "metadata": {
        "id": "view-in-github",
        "colab_type": "text"
      },
      "source": [
        "<a href=\"https://colab.research.google.com/github/nikhila1999/Nikhila-/blob/master/28_12_19.ipynb\" target=\"_parent\"><img src=\"https://colab.research.google.com/assets/colab-badge.svg\" alt=\"Open In Colab\"/></a>"
      ]
    },
    {
      "cell_type": "code",
      "metadata": {
        "id": "ZumNdRDWoMvW",
        "colab_type": "code",
        "colab": {}
      },
      "source": [
        ""
      ],
      "execution_count": 0,
      "outputs": []
    },
    {
      "cell_type": "markdown",
      "metadata": {
        "id": "TjhewRSOoR7Y",
        "colab_type": "text"
      },
      "source": [
        "# 1.\n",
        "input str=\"pynative\"\n",
        "# output='p','n','t','v'\n",
        "# complete this question using function\n"
      ]
    },
    {
      "cell_type": "code",
      "metadata": {
        "id": "YrAgX8hMom1a",
        "colab_type": "code",
        "colab": {
          "base_uri": "https://localhost:8080/",
          "height": 34
        },
        "outputId": "708377ba-5327-4e1f-92ff-32435118b4ac"
      },
      "source": [
        "def alternative(str):\n",
        "    li=list(str[0:len(str):2])\n",
        "    print(li)\n",
        "alternative(\"pynative\")\n",
        "\n"
      ],
      "execution_count": 12,
      "outputs": [
        {
          "output_type": "stream",
          "text": [
            "['p', 'n', 't', 'v']\n"
          ],
          "name": "stdout"
        }
      ]
    },
    {
      "cell_type": "markdown",
      "metadata": {
        "id": "AhxjeSRqpYKI",
        "colab_type": "text"
      },
      "source": [
        "# 2. given a list of integers,return true if first and last number of list is same\n"
      ]
    },
    {
      "cell_type": "code",
      "metadata": {
        "id": "MMroxM_Kpu4I",
        "colab_type": "code",
        "colab": {
          "base_uri": "https://localhost:8080/",
          "height": 51
        },
        "outputId": "42f43aeb-5a77-4b3e-ffbc-42baa1d82040"
      },
      "source": [
        "def firstandlast(li):\n",
        "    if li[0]==li[-1]:\n",
        "        return True\n",
        "    else: \n",
        "        return False\n",
        "li=[1,2,3,4,5,6]\n",
        "print(firstandlast(li))\n",
        "li=[1,2,3,1]\n",
        "print(firstandlast(li))\n"
      ],
      "execution_count": 32,
      "outputs": [
        {
          "output_type": "stream",
          "text": [
            "False\n",
            "True\n"
          ],
          "name": "stdout"
        }
      ]
    },
    {
      "cell_type": "code",
      "metadata": {
        "id": "Bs9DA_tPpw8o",
        "colab_type": "code",
        "colab": {}
      },
      "source": [
        ""
      ],
      "execution_count": 0,
      "outputs": []
    },
    {
      "cell_type": "markdown",
      "metadata": {
        "id": "DFRHASQpywJs",
        "colab_type": "text"
      },
      "source": [
        "# print the following pattern\n",
        "# 1\n",
        "# 22\n",
        "# 333\n",
        "# 4444"
      ]
    },
    {
      "cell_type": "code",
      "metadata": {
        "id": "wJqtq6rty9mZ",
        "colab_type": "code",
        "colab": {
          "base_uri": "https://localhost:8080/",
          "height": 187
        },
        "outputId": "e7d8b07b-0283-4dc5-9cc8-e485587821d8"
      },
      "source": [
        "def pattern(n):\n",
        "\n",
        "    for i in range(1,n+1):\n",
        "      for j in range(i):\n",
        "        print(i,end=\" \")\n",
        "      print(\"\\n\")\n",
        "pattern(5)"
      ],
      "execution_count": 47,
      "outputs": [
        {
          "output_type": "stream",
          "text": [
            "1 \n",
            "\n",
            "2 2 \n",
            "\n",
            "3 3 3 \n",
            "\n",
            "4 4 4 4 \n",
            "\n",
            "5 5 5 5 5 \n",
            "\n"
          ],
          "name": "stdout"
        }
      ]
    },
    {
      "cell_type": "markdown",
      "metadata": {
        "id": "SmoGjQhgpZq6",
        "colab_type": "text"
      },
      "source": [
        ""
      ]
    },
    {
      "cell_type": "code",
      "metadata": {
        "id": "cziCWBKj367e",
        "colab_type": "code",
        "colab": {}
      },
      "source": [
        "name=input(\"entar a name:\")"
      ],
      "execution_count": 0,
      "outputs": []
    }
  ]
}